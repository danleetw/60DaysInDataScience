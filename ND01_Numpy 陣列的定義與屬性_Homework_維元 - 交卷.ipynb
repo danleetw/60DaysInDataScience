{
 "cells": [
  {
   "cell_type": "markdown",
   "metadata": {
    "id": "P6xk2_jLsvFF"
   },
   "source": [
    "# [作業目標]\n",
    "\n",
    "1. [簡答題] 請問下列兩種將 Array 轉換成 List 的方式有何不同？\n",
    "\n",
    "```\n",
    "print('list(a): ', list(a))\n",
    "print('tolist(): ', a.tolist())\n",
    "```\n",
    "\n",
    "2. 請試著在程式中印出以下三個 NdArray 的屬性？（屬性：ndim、shape、size、dtype、itemsize、length、type）\n",
    "\n",
    "```\n",
    "a = np.random.randint(10, size=6) \n",
    "b = np.random.randint(10, size=(3,4)) \n",
    "c = np.random.randint(10, size=(2,3,2)) \n",
    "```\n",
    "\n",
    "3. 如何利用 list(...) 實現 a.tolist() 的效果？試著用程式實作。\n"
   ]
  },
  {
   "cell_type": "markdown",
   "metadata": {
    "id": "uXGll28asvFS"
   },
   "source": [
    "# 作業 "
   ]
  },
  {
   "cell_type": "markdown",
   "metadata": {
    "id": "SYkvkp9YLwB7"
   },
   "source": [
    "### 1. [簡答題] 請問下列兩種將 Array 轉換成 List 的方式有何不同？\n",
    "\n",
    "```\n",
    "print('list(a): ', list(a))\n",
    "print('tolist(): ', a.tolist())\n",
    "```\n"
   ]
  },
  {
   "cell_type": "code",
   "execution_count": 6,
   "metadata": {
    "id": "5QrYoyNWsvFS",
    "outputId": "13f374d0-6f1b-47aa-bbac-c7d1a8c6995c"
   },
   "outputs": [
    {
     "data": {
      "text/plain": [
       "'\\nYour Code\\n\\nlist只會轉換第一層陣列(Array)轉成列表(List),所以如果是兩維以上陣列,則第2層還是會維持為陣列\\n\\ntolist會把所有維度的陣列(Array)都轉成列表(List)\\n\\n'"
      ]
     },
     "execution_count": 6,
     "metadata": {},
     "output_type": "execute_result"
    }
   ],
   "source": [
    "'''\n",
    "Your Code\n",
    "\n",
    "list只會轉換第一層陣列(Array)轉成列表(List),所以如果是兩維以上陣列,則第2層還是會維持為陣列\n",
    "\n",
    "tolist會把所有維度的陣列(Array)都轉成列表(List)\n",
    "\n",
    "'''\n",
    "\n"
   ]
  },
  {
   "cell_type": "markdown",
   "metadata": {
    "id": "AC9wUCyALwB9"
   },
   "source": [
    "### 2. 請試著在程式中印出以下三個 NdArray 的屬性並且解釋結果？（屬性：ndim、shape、size、dtype、itemsize、length、type）\n",
    "\n",
    "```\n",
    "a = np.random.randint(10, size=6) \n",
    "b = np.random.randint(10, size=(3,4)) \n",
    "c = np.random.randint(10, size=(2,3,2)) \n",
    "```"
   ]
  },
  {
   "cell_type": "code",
   "execution_count": 7,
   "metadata": {
    "id": "4qARRsdtLwB-"
   },
   "outputs": [],
   "source": [
    "# 記得先 Import 正確的套件\n",
    "\n",
    "'''\n",
    "Your Code\n",
    "'''\n",
    "import numpy as np\n"
   ]
  },
  {
   "cell_type": "code",
   "execution_count": 29,
   "metadata": {
    "id": "e1gVI0tvsvFY",
    "outputId": "9be10770-9042-40c8-c4bc-217b84be9fc9"
   },
   "outputs": [
    {
     "name": "stdout",
     "output_type": "stream",
     "text": [
      "Array(陣列內容):\n",
      " [6 4 5 8 8 1]\n",
      "NDIM(陣列維度): 1\n",
      "Shape(陣列各維大小): (6,)\n",
      "Size(陣列內容個數): 6\n",
      "Type(陣列內容型態): int32\n",
      "ItemSize(個別陣列內容空間大小): 4\n",
      "Len(第一維的長度): 6\n",
      "Type(資料型態): <class 'numpy.ndarray'>\n"
     ]
    }
   ],
   "source": [
    "'''\n",
    "Your Code\n",
    "'''\n",
    "a = np.random.randint(10, size=6) \n",
    "\n",
    "print(\"Array(陣列內容):\\n\",a)\n",
    "print(\"NDIM(陣列維度):\",a.ndim)\n",
    "print(\"Shape(陣列各維大小):\",a.shape)\n",
    "print(\"Size(陣列內容個數):\",a.size)\n",
    "print(\"Type(陣列內容型態):\",a.dtype)\n",
    "print(\"ItemSize(個別陣列內容空間大小):\",a.itemsize)\n",
    "print(\"Len(第一維的長度):\",len(a) )\n",
    "print(\"Type(資料型態):\", type(a) )"
   ]
  },
  {
   "cell_type": "code",
   "execution_count": 30,
   "metadata": {
    "id": "iIJrIr7kLwB_",
    "outputId": "083c5519-394c-404e-9764-100c4ed5118a"
   },
   "outputs": [
    {
     "name": "stdout",
     "output_type": "stream",
     "text": [
      "Array(陣列內容):\n",
      " [[7 3 6 0]\n",
      " [6 4 8 2]\n",
      " [7 6 7 2]]\n",
      "NDIM(陣列維度): 2\n",
      "Shape(陣列各維大小): (3, 4)\n",
      "Size(陣列內容個數): 12\n",
      "Type(陣列內容型態): int32\n",
      "ItemSize(個別陣列內容空間大小): 4\n",
      "Len(第一維的長度): 3\n",
      "Type(資料型態): <class 'numpy.ndarray'>\n"
     ]
    }
   ],
   "source": [
    "b = np.random.randint(10, size=(3,4)) \n",
    "\n",
    "'''\n",
    "Your Code\n",
    "'''\n",
    "\n",
    "print(\"Array(陣列內容):\\n\",b)\n",
    "print(\"NDIM(陣列維度):\",b.ndim)\n",
    "print(\"Shape(陣列各維大小):\",b.shape)\n",
    "print(\"Size(陣列內容個數):\",b.size)\n",
    "print(\"Type(陣列內容型態):\",b.dtype)\n",
    "print(\"ItemSize(個別陣列內容空間大小):\",b.itemsize)\n",
    "print(\"Len(第一維的長度):\",len(b) )\n",
    "print(\"Type(資料型態):\", type(b) )"
   ]
  },
  {
   "cell_type": "code",
   "execution_count": 31,
   "metadata": {
    "id": "98SRFh_FLwCC",
    "outputId": "dc65dfac-9ae6-49d2-f854-88eccebc2aac"
   },
   "outputs": [
    {
     "name": "stdout",
     "output_type": "stream",
     "text": [
      "Array(陣列內容):\n",
      " [[[4 3]\n",
      "  [9 4]\n",
      "  [8 3]]\n",
      "\n",
      " [[2 7]\n",
      "  [7 3]\n",
      "  [9 2]]]\n",
      "NDIM(陣列維度): 3\n",
      "Shape(陣列各維大小): (2, 3, 2)\n",
      "Size(陣列內容個數): 12\n",
      "Type(陣列內容型態): int32\n",
      "ItemSize(個別陣列內容空間大小): 4\n",
      "Len(第一維的長度): 2\n",
      "Type(資料型態): <class 'numpy.ndarray'>\n"
     ]
    }
   ],
   "source": [
    "c = np.random.randint(10, size=(2,3,2)) \n",
    "\n",
    "'''\n",
    "Your Code\n",
    "'''\n",
    "\n",
    "print(\"Array(陣列內容):\\n\",c)\n",
    "print(\"NDIM(陣列維度):\",c.ndim)\n",
    "print(\"Shape(陣列各維大小):\",c.shape)\n",
    "print(\"Size(陣列內容個數):\",c.size)\n",
    "print(\"Type(陣列內容型態):\",c.dtype)\n",
    "print(\"ItemSize(個別陣列內容空間大小):\",c.itemsize)\n",
    "print(\"Len(第一維的長度):\",len(c) )\n",
    "print(\"Type(資料型態):\", type(c) )"
   ]
  },
  {
   "cell_type": "markdown",
   "metadata": {
    "id": "Uf6zC0QZLwCE"
   },
   "source": [
    "### 3. 如何利用 list(...) 實現 a.tolist() 的效果？試著用程式實作。\n"
   ]
  },
  {
   "cell_type": "code",
   "execution_count": 39,
   "metadata": {
    "id": "sCUzHu_BLwCF",
    "outputId": "ba9c8945-8efb-42b1-f978-2bbdda97accd"
   },
   "outputs": [
    {
     "name": "stdout",
     "output_type": "stream",
     "text": [
      "[4, 0, 9, 2, 3, 7]\n",
      "[4, 0, 9, 2, 3, 7]\n",
      "4 0 9 2 3 7 "
     ]
    }
   ],
   "source": [
    "a = np.random.randint(10, size=6) \n",
    "\n",
    "print(a.tolist())\n",
    "print(list(a))\n",
    "\n",
    "for d1 in a:\n",
    "       print(d1,end=\" \")\n"
   ]
  },
  {
   "cell_type": "code",
   "execution_count": 45,
   "metadata": {
    "id": "IUkVtw8RLwCG",
    "outputId": "e39875a5-5ec7-431b-c12a-485acc167e44"
   },
   "outputs": [
    {
     "name": "stdout",
     "output_type": "stream",
     "text": [
      "[[5, 4, 7, 3], [9, 6, 0, 7], [9, 0, 8, 1]]\n",
      "[array([5, 4, 7, 3]), array([9, 6, 0, 7]), array([9, 0, 8, 1])]\n",
      "\n",
      "5 4 7 3 \n",
      "9 6 0 7 \n",
      "9 0 8 1 \n"
     ]
    }
   ],
   "source": [
    "b = np.random.randint(10, size=(3,4)) \n",
    "\n",
    "print(b.tolist())\n",
    "print(list(b))\n",
    "print()\n",
    "for d1 in list(b):\n",
    "    for d2 in list(d1):\n",
    "       print(d2,end=\" \")\n",
    "    print()"
   ]
  },
  {
   "cell_type": "code",
   "execution_count": null,
   "metadata": {
    "id": "NPhF8_CqLwCG",
    "outputId": "51fab908-5bfd-415f-9584-92bb376648c8"
   },
   "outputs": [
    {
     "name": "stdout",
     "output_type": "stream",
     "text": [
      "[[[0, 4], [0, 1], [9, 5]], [[8, 7], [8, 2], [6, 0]]]\n",
      "[array([[0, 4],\n",
      "       [0, 1],\n",
      "       [9, 5]]), array([[8, 7],\n",
      "       [8, 2],\n",
      "       [6, 0]])]\n"
     ]
    }
   ],
   "source": [
    "c = np.random.randint(10, size=(2,3,2)) \n",
    "\n",
    "print(c.tolist())\n",
    "print(list(c))\n",
    "print()\n",
    "for d1 in list(b):\n",
    "    for d2 in list(d1):\n",
    "       print(d2,end=\" \")\n",
    "    print()"
   ]
  },
  {
   "cell_type": "code",
   "execution_count": null,
   "metadata": {
    "id": "3Hc8vQYtLwCH",
    "outputId": "1290bc93-84ca-4da4-eb1a-315da37afaff"
   },
   "outputs": [
    {
     "name": "stdout",
     "output_type": "stream",
     "text": [
      "[7, 6, 7, 3, 7, 5]\n",
      "[[5, 7, 4, 6], [9, 4, 0, 1], [9, 1, 2, 9]]\n",
      "[[[0, 4], [0, 1], [9, 5]], [[8, 7], [8, 2], [6, 0]]]\n"
     ]
    }
   ],
   "source": [
    "def tolist(iterable):\n",
    "    '''\n",
    "    Your Code\n",
    "    '''\n",
    "\n",
    "print(tolist(a))\n",
    "print(tolist(b))\n",
    "print(tolist(c))"
   ]
  },
  {
   "cell_type": "code",
   "execution_count": null,
   "metadata": {
    "id": "2lDVOwFpLwCJ",
    "outputId": "ddfa84e4-3d32-4a68-c250-f57b2f66d830"
   },
   "outputs": [
    {
     "name": "stdout",
     "output_type": "stream",
     "text": [
      "[7, 6, 7, 3, 7, 5]\n",
      "[[5, 7, 4, 6], [9, 4, 0, 1], [9, 1, 2, 9]]\n",
      "[[[0, 4], [0, 1], [9, 5]], [[8, 7], [8, 2], [6, 0]]]\n"
     ]
    }
   ],
   "source": []
  },
  {
   "cell_type": "code",
   "execution_count": null,
   "metadata": {
    "id": "tvqCpuFILwCK"
   },
   "outputs": [],
   "source": []
  },
  {
   "cell_type": "code",
   "execution_count": null,
   "metadata": {
    "id": "640whg6NLwCK"
   },
   "outputs": [],
   "source": []
  }
 ],
 "metadata": {
  "colab": {
   "name": "01Homework_維元.ipynb",
   "provenance": []
  },
  "kernelspec": {
   "display_name": "Python 3",
   "language": "python",
   "name": "python3"
  },
  "language_info": {
   "codemirror_mode": {
    "name": "ipython",
    "version": 3
   },
   "file_extension": ".py",
   "mimetype": "text/x-python",
   "name": "python",
   "nbconvert_exporter": "python",
   "pygments_lexer": "ipython3",
   "version": "3.7.9"
  }
 },
 "nbformat": 4,
 "nbformat_minor": 1
}
